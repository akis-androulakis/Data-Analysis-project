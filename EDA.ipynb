{
 "cells": [
  {
   "cell_type": "markdown",
   "id": "098b65df",
   "metadata": {},
   "source": [
    "# G2M insight for Cab Investment firm"
   ]
  },
  {
   "cell_type": "markdown",
   "id": "227303e3",
   "metadata": {},
   "source": [
    "## Introduction"
   ]
  },
  {
   "cell_type": "markdown",
   "id": "d6a2c4db",
   "metadata": {},
   "source": [
    "As of 2022, the market size of the Cab industry in the USA exceeds $44.0bn and is expected to grow further.It has multiple key players and the XYZ investment firm is planning to invest in one of them. The aim of this report is to provide an understanding of the market and to identify the right company to invest in between the two candidates of Pink Cab and Yellow Cab. The report makes use of 4 provided datasets containing data gathered from 31/01/2016 to 31/12/2018 and document:\n",
    "* customer details of the 2 companies\n",
    "* cab ride details of the 2 companies\n",
    "* transactions details of the rides\n",
    "* demographic and cab usage information on USA cities"
   ]
  },
  {
   "cell_type": "markdown",
   "id": "8fc8b454",
   "metadata": {},
   "source": [
    "## Understanding the Datasets"
   ]
  },
  {
   "cell_type": "code",
   "execution_count": 259,
   "id": "ddac4730",
   "metadata": {},
   "outputs": [],
   "source": [
    "import pandas as pd\n",
    "import xlrd\n",
    "from datetime import datetime"
   ]
  },
  {
   "cell_type": "code",
   "execution_count": 260,
   "id": "a42582e7",
   "metadata": {},
   "outputs": [],
   "source": [
    "cab_data = pd.read_csv(\"Cab_data.csv\")\n",
    "tr_id = pd.read_csv(\"Transaction_ID.csv\")\n",
    "cust_id = pd.read_csv(\"Customer_ID.csv\")\n",
    "city = pd.read_csv(\"City.csv\")"
   ]
  },
  {
   "cell_type": "markdown",
   "id": "72715233",
   "metadata": {},
   "source": [
    "#### Cab_data dataset"
   ]
  },
  {
   "cell_type": "code",
   "execution_count": 261,
   "id": "321adbef",
   "metadata": {
    "scrolled": true
   },
   "outputs": [
    {
     "data": {
      "text/html": [
       "<div>\n",
       "<style scoped>\n",
       "    .dataframe tbody tr th:only-of-type {\n",
       "        vertical-align: middle;\n",
       "    }\n",
       "\n",
       "    .dataframe tbody tr th {\n",
       "        vertical-align: top;\n",
       "    }\n",
       "\n",
       "    .dataframe thead th {\n",
       "        text-align: right;\n",
       "    }\n",
       "</style>\n",
       "<table border=\"1\" class=\"dataframe\">\n",
       "  <thead>\n",
       "    <tr style=\"text-align: right;\">\n",
       "      <th></th>\n",
       "      <th>Transaction ID</th>\n",
       "      <th>Date of Travel</th>\n",
       "      <th>Company</th>\n",
       "      <th>City</th>\n",
       "      <th>KM Travelled</th>\n",
       "      <th>Price Charged</th>\n",
       "      <th>Cost of Trip</th>\n",
       "    </tr>\n",
       "  </thead>\n",
       "  <tbody>\n",
       "    <tr>\n",
       "      <th>0</th>\n",
       "      <td>10000011</td>\n",
       "      <td>42377</td>\n",
       "      <td>Pink Cab</td>\n",
       "      <td>ATLANTA GA</td>\n",
       "      <td>30.45</td>\n",
       "      <td>370.95</td>\n",
       "      <td>313.635</td>\n",
       "    </tr>\n",
       "    <tr>\n",
       "      <th>1</th>\n",
       "      <td>10000012</td>\n",
       "      <td>42375</td>\n",
       "      <td>Pink Cab</td>\n",
       "      <td>ATLANTA GA</td>\n",
       "      <td>28.62</td>\n",
       "      <td>358.52</td>\n",
       "      <td>334.854</td>\n",
       "    </tr>\n",
       "    <tr>\n",
       "      <th>2</th>\n",
       "      <td>10000013</td>\n",
       "      <td>42371</td>\n",
       "      <td>Pink Cab</td>\n",
       "      <td>ATLANTA GA</td>\n",
       "      <td>9.04</td>\n",
       "      <td>125.20</td>\n",
       "      <td>97.632</td>\n",
       "    </tr>\n",
       "    <tr>\n",
       "      <th>3</th>\n",
       "      <td>10000014</td>\n",
       "      <td>42376</td>\n",
       "      <td>Pink Cab</td>\n",
       "      <td>ATLANTA GA</td>\n",
       "      <td>33.17</td>\n",
       "      <td>377.40</td>\n",
       "      <td>351.602</td>\n",
       "    </tr>\n",
       "    <tr>\n",
       "      <th>4</th>\n",
       "      <td>10000015</td>\n",
       "      <td>42372</td>\n",
       "      <td>Pink Cab</td>\n",
       "      <td>ATLANTA GA</td>\n",
       "      <td>8.73</td>\n",
       "      <td>114.62</td>\n",
       "      <td>97.776</td>\n",
       "    </tr>\n",
       "  </tbody>\n",
       "</table>\n",
       "</div>"
      ],
      "text/plain": [
       "   Transaction ID  Date of Travel   Company        City  KM Travelled  \\\n",
       "0        10000011           42377  Pink Cab  ATLANTA GA         30.45   \n",
       "1        10000012           42375  Pink Cab  ATLANTA GA         28.62   \n",
       "2        10000013           42371  Pink Cab  ATLANTA GA          9.04   \n",
       "3        10000014           42376  Pink Cab  ATLANTA GA         33.17   \n",
       "4        10000015           42372  Pink Cab  ATLANTA GA          8.73   \n",
       "\n",
       "   Price Charged  Cost of Trip  \n",
       "0         370.95       313.635  \n",
       "1         358.52       334.854  \n",
       "2         125.20        97.632  \n",
       "3         377.40       351.602  \n",
       "4         114.62        97.776  "
      ]
     },
     "execution_count": 261,
     "metadata": {},
     "output_type": "execute_result"
    }
   ],
   "source": [
    "cab_data.head()"
   ]
  },
  {
   "cell_type": "markdown",
   "id": "16db6bb4",
   "metadata": {},
   "source": [
    "We see that we need to convert excel date format to datetime object"
   ]
  },
  {
   "cell_type": "code",
   "execution_count": 262,
   "id": "87217177",
   "metadata": {},
   "outputs": [],
   "source": [
    "cab_data[\"Date of Travel\"] = cab_data[\"Date of Travel\"].apply(lambda x: xlrd.xldate.xldate_as_datetime(x, 0))"
   ]
  },
  {
   "cell_type": "code",
   "execution_count": 263,
   "id": "9ecad571",
   "metadata": {},
   "outputs": [
    {
     "name": "stdout",
     "output_type": "stream",
     "text": [
      "<class 'pandas.core.frame.DataFrame'>\n",
      "RangeIndex: 359392 entries, 0 to 359391\n",
      "Data columns (total 7 columns):\n",
      " #   Column          Non-Null Count   Dtype         \n",
      "---  ------          --------------   -----         \n",
      " 0   Transaction ID  359392 non-null  int64         \n",
      " 1   Date of Travel  359392 non-null  datetime64[ns]\n",
      " 2   Company         359392 non-null  object        \n",
      " 3   City            359392 non-null  object        \n",
      " 4   KM Travelled    359392 non-null  float64       \n",
      " 5   Price Charged   359392 non-null  float64       \n",
      " 6   Cost of Trip    359392 non-null  float64       \n",
      "dtypes: datetime64[ns](1), float64(3), int64(1), object(2)\n",
      "memory usage: 19.2+ MB\n"
     ]
    }
   ],
   "source": [
    "cab_data.info()"
   ]
  },
  {
   "cell_type": "markdown",
   "id": "dc2b9f6d",
   "metadata": {},
   "source": [
    "We see that we have no missing values in any column and that the data types are correct."
   ]
  },
  {
   "cell_type": "code",
   "execution_count": 264,
   "id": "b285d5b1",
   "metadata": {
    "scrolled": true
   },
   "outputs": [
    {
     "data": {
      "text/plain": [
       "NEW YORK NY       99885\n",
       "CHICAGO IL        56625\n",
       "LOS ANGELES CA    48033\n",
       "WASHINGTON DC     43737\n",
       "BOSTON MA         29692\n",
       "SAN DIEGO CA      20488\n",
       "SILICON VALLEY     8519\n",
       "SEATTLE WA         7997\n",
       "ATLANTA GA         7557\n",
       "DALLAS TX          7017\n",
       "MIAMI FL           6454\n",
       "AUSTIN TX          4896\n",
       "ORANGE COUNTY      3982\n",
       "DENVER CO          3825\n",
       "NASHVILLE TN       3010\n",
       "SACRAMENTO CA      2367\n",
       "PHOENIX AZ         2064\n",
       "TUCSON AZ          1931\n",
       "PITTSBURGH PA      1313\n",
       "Name: City, dtype: int64"
      ]
     },
     "execution_count": 264,
     "metadata": {},
     "output_type": "execute_result"
    }
   ],
   "source": [
    "cab_data[\"City\"].value_counts()"
   ]
  },
  {
   "cell_type": "code",
   "execution_count": 265,
   "id": "194c5a84",
   "metadata": {},
   "outputs": [
    {
     "data": {
      "text/plain": [
       "Yellow Cab    274681\n",
       "Pink Cab       84711\n",
       "Name: Company, dtype: int64"
      ]
     },
     "execution_count": 265,
     "metadata": {},
     "output_type": "execute_result"
    }
   ],
   "source": [
    "cab_data[\"Company\"].value_counts()"
   ]
  },
  {
   "cell_type": "markdown",
   "id": "da6a9e03",
   "metadata": {},
   "source": [
    "Further investigation of columns of 'object' type shows no errors."
   ]
  },
  {
   "cell_type": "code",
   "execution_count": 266,
   "id": "0a9c22d2",
   "metadata": {},
   "outputs": [
    {
     "data": {
      "text/plain": [
       "Transaction ID    359392\n",
       "Date of Travel      1095\n",
       "Company                2\n",
       "City                  19\n",
       "KM Travelled         874\n",
       "Price Charged      99176\n",
       "Cost of Trip       16291\n",
       "dtype: int64"
      ]
     },
     "execution_count": 266,
     "metadata": {},
     "output_type": "execute_result"
    }
   ],
   "source": [
    "cab_data.nunique()"
   ]
  },
  {
   "cell_type": "markdown",
   "id": "f087496e",
   "metadata": {},
   "source": [
    "We observe that transaction id's are all unique so the dataset doesn't contain any duplicate transactions. Moreover, 1095 days correspond exactly to 3 years (2016-2018) so data from every day has been gathered."
   ]
  },
  {
   "cell_type": "code",
   "execution_count": 267,
   "id": "5aff5c96",
   "metadata": {},
   "outputs": [
    {
     "data": {
      "text/html": [
       "<div>\n",
       "<style scoped>\n",
       "    .dataframe tbody tr th:only-of-type {\n",
       "        vertical-align: middle;\n",
       "    }\n",
       "\n",
       "    .dataframe tbody tr th {\n",
       "        vertical-align: top;\n",
       "    }\n",
       "\n",
       "    .dataframe thead th {\n",
       "        text-align: right;\n",
       "    }\n",
       "</style>\n",
       "<table border=\"1\" class=\"dataframe\">\n",
       "  <thead>\n",
       "    <tr style=\"text-align: right;\">\n",
       "      <th></th>\n",
       "      <th>KM Travelled</th>\n",
       "      <th>Price Charged</th>\n",
       "      <th>Cost of Trip</th>\n",
       "      <th>Date of Travel</th>\n",
       "    </tr>\n",
       "  </thead>\n",
       "  <tbody>\n",
       "    <tr>\n",
       "      <th>count</th>\n",
       "      <td>359392.00</td>\n",
       "      <td>359392.00</td>\n",
       "      <td>359392.00</td>\n",
       "      <td>359392</td>\n",
       "    </tr>\n",
       "    <tr>\n",
       "      <th>mean</th>\n",
       "      <td>22.57</td>\n",
       "      <td>423.44</td>\n",
       "      <td>286.19</td>\n",
       "      <td>2017-08-17 01:37:55.042293760</td>\n",
       "    </tr>\n",
       "    <tr>\n",
       "      <th>min</th>\n",
       "      <td>1.90</td>\n",
       "      <td>15.60</td>\n",
       "      <td>19.00</td>\n",
       "      <td>2016-01-02 00:00:00</td>\n",
       "    </tr>\n",
       "    <tr>\n",
       "      <th>25%</th>\n",
       "      <td>12.00</td>\n",
       "      <td>206.44</td>\n",
       "      <td>151.20</td>\n",
       "      <td>2016-11-23 00:00:00</td>\n",
       "    </tr>\n",
       "    <tr>\n",
       "      <th>50%</th>\n",
       "      <td>22.44</td>\n",
       "      <td>386.36</td>\n",
       "      <td>282.48</td>\n",
       "      <td>2017-09-10 00:00:00</td>\n",
       "    </tr>\n",
       "    <tr>\n",
       "      <th>75%</th>\n",
       "      <td>32.96</td>\n",
       "      <td>583.66</td>\n",
       "      <td>413.68</td>\n",
       "      <td>2018-05-12 00:00:00</td>\n",
       "    </tr>\n",
       "    <tr>\n",
       "      <th>max</th>\n",
       "      <td>48.00</td>\n",
       "      <td>2048.03</td>\n",
       "      <td>691.20</td>\n",
       "      <td>2018-12-31 00:00:00</td>\n",
       "    </tr>\n",
       "    <tr>\n",
       "      <th>std</th>\n",
       "      <td>12.23</td>\n",
       "      <td>274.38</td>\n",
       "      <td>157.99</td>\n",
       "      <td>NaN</td>\n",
       "    </tr>\n",
       "  </tbody>\n",
       "</table>\n",
       "</div>"
      ],
      "text/plain": [
       "       KM Travelled  Price Charged  Cost of Trip  \\\n",
       "count     359392.00      359392.00     359392.00   \n",
       "mean          22.57         423.44        286.19   \n",
       "min            1.90          15.60         19.00   \n",
       "25%           12.00         206.44        151.20   \n",
       "50%           22.44         386.36        282.48   \n",
       "75%           32.96         583.66        413.68   \n",
       "max           48.00        2048.03        691.20   \n",
       "std           12.23         274.38        157.99   \n",
       "\n",
       "                      Date of Travel  \n",
       "count                         359392  \n",
       "mean   2017-08-17 01:37:55.042293760  \n",
       "min              2016-01-02 00:00:00  \n",
       "25%              2016-11-23 00:00:00  \n",
       "50%              2017-09-10 00:00:00  \n",
       "75%              2018-05-12 00:00:00  \n",
       "max              2018-12-31 00:00:00  \n",
       "std                              NaN  "
      ]
     },
     "execution_count": 267,
     "metadata": {},
     "output_type": "execute_result"
    }
   ],
   "source": [
    "cab_data[[\"KM Travelled\", \"Price Charged\", \"Cost of Trip\", \"Date of Travel\"]].describe(datetime_is_numeric = True).round(2)"
   ]
  },
  {
   "cell_type": "markdown",
   "id": "d544f71c",
   "metadata": {},
   "source": [
    "#### Transaction_Id Dataset"
   ]
  },
  {
   "cell_type": "code",
   "execution_count": 268,
   "id": "85b9a7af",
   "metadata": {},
   "outputs": [
    {
     "data": {
      "text/html": [
       "<div>\n",
       "<style scoped>\n",
       "    .dataframe tbody tr th:only-of-type {\n",
       "        vertical-align: middle;\n",
       "    }\n",
       "\n",
       "    .dataframe tbody tr th {\n",
       "        vertical-align: top;\n",
       "    }\n",
       "\n",
       "    .dataframe thead th {\n",
       "        text-align: right;\n",
       "    }\n",
       "</style>\n",
       "<table border=\"1\" class=\"dataframe\">\n",
       "  <thead>\n",
       "    <tr style=\"text-align: right;\">\n",
       "      <th></th>\n",
       "      <th>Transaction ID</th>\n",
       "      <th>Customer ID</th>\n",
       "      <th>Payment_Mode</th>\n",
       "    </tr>\n",
       "  </thead>\n",
       "  <tbody>\n",
       "    <tr>\n",
       "      <th>0</th>\n",
       "      <td>10000011</td>\n",
       "      <td>29290</td>\n",
       "      <td>Card</td>\n",
       "    </tr>\n",
       "    <tr>\n",
       "      <th>1</th>\n",
       "      <td>10000012</td>\n",
       "      <td>27703</td>\n",
       "      <td>Card</td>\n",
       "    </tr>\n",
       "    <tr>\n",
       "      <th>2</th>\n",
       "      <td>10000013</td>\n",
       "      <td>28712</td>\n",
       "      <td>Cash</td>\n",
       "    </tr>\n",
       "    <tr>\n",
       "      <th>3</th>\n",
       "      <td>10000014</td>\n",
       "      <td>28020</td>\n",
       "      <td>Cash</td>\n",
       "    </tr>\n",
       "    <tr>\n",
       "      <th>4</th>\n",
       "      <td>10000015</td>\n",
       "      <td>27182</td>\n",
       "      <td>Card</td>\n",
       "    </tr>\n",
       "  </tbody>\n",
       "</table>\n",
       "</div>"
      ],
      "text/plain": [
       "   Transaction ID  Customer ID Payment_Mode\n",
       "0        10000011        29290         Card\n",
       "1        10000012        27703         Card\n",
       "2        10000013        28712         Cash\n",
       "3        10000014        28020         Cash\n",
       "4        10000015        27182         Card"
      ]
     },
     "execution_count": 268,
     "metadata": {},
     "output_type": "execute_result"
    }
   ],
   "source": [
    "tr_id.head()"
   ]
  },
  {
   "cell_type": "code",
   "execution_count": 269,
   "id": "3e0bd98c",
   "metadata": {},
   "outputs": [
    {
     "name": "stdout",
     "output_type": "stream",
     "text": [
      "<class 'pandas.core.frame.DataFrame'>\n",
      "RangeIndex: 440098 entries, 0 to 440097\n",
      "Data columns (total 3 columns):\n",
      " #   Column          Non-Null Count   Dtype \n",
      "---  ------          --------------   ----- \n",
      " 0   Transaction ID  440098 non-null  int64 \n",
      " 1   Customer ID     440098 non-null  int64 \n",
      " 2   Payment_Mode    440098 non-null  object\n",
      "dtypes: int64(2), object(1)\n",
      "memory usage: 10.1+ MB\n"
     ]
    }
   ],
   "source": [
    "tr_id.info()"
   ]
  },
  {
   "cell_type": "code",
   "execution_count": 270,
   "id": "34d8a14f",
   "metadata": {},
   "outputs": [
    {
     "data": {
      "text/plain": [
       "Card    263991\n",
       "Cash    176107\n",
       "Name: Payment_Mode, dtype: int64"
      ]
     },
     "execution_count": 270,
     "metadata": {},
     "output_type": "execute_result"
    }
   ],
   "source": [
    "tr_id[\"Payment_Mode\"].value_counts()"
   ]
  },
  {
   "cell_type": "code",
   "execution_count": 271,
   "id": "5ecb5a34",
   "metadata": {},
   "outputs": [
    {
     "data": {
      "text/plain": [
       "Transaction ID    440098\n",
       "Customer ID        49171\n",
       "Payment_Mode           2\n",
       "dtype: int64"
      ]
     },
     "execution_count": 271,
     "metadata": {},
     "output_type": "execute_result"
    }
   ],
   "source": [
    "tr_id.nunique()"
   ]
  },
  {
   "cell_type": "markdown",
   "id": "90ec0d30",
   "metadata": {},
   "source": [
    "Again we have no missing values, the data types are correct and there are no duplicates."
   ]
  },
  {
   "cell_type": "markdown",
   "id": "df7776d4",
   "metadata": {},
   "source": [
    "#### Customer_ID Dataset"
   ]
  },
  {
   "cell_type": "code",
   "execution_count": 272,
   "id": "ec3f4fc7",
   "metadata": {},
   "outputs": [
    {
     "data": {
      "text/html": [
       "<div>\n",
       "<style scoped>\n",
       "    .dataframe tbody tr th:only-of-type {\n",
       "        vertical-align: middle;\n",
       "    }\n",
       "\n",
       "    .dataframe tbody tr th {\n",
       "        vertical-align: top;\n",
       "    }\n",
       "\n",
       "    .dataframe thead th {\n",
       "        text-align: right;\n",
       "    }\n",
       "</style>\n",
       "<table border=\"1\" class=\"dataframe\">\n",
       "  <thead>\n",
       "    <tr style=\"text-align: right;\">\n",
       "      <th></th>\n",
       "      <th>Customer ID</th>\n",
       "      <th>Gender</th>\n",
       "      <th>Age</th>\n",
       "      <th>Income (USD/Month)</th>\n",
       "    </tr>\n",
       "  </thead>\n",
       "  <tbody>\n",
       "    <tr>\n",
       "      <th>0</th>\n",
       "      <td>29290</td>\n",
       "      <td>Male</td>\n",
       "      <td>28</td>\n",
       "      <td>10813</td>\n",
       "    </tr>\n",
       "    <tr>\n",
       "      <th>1</th>\n",
       "      <td>27703</td>\n",
       "      <td>Male</td>\n",
       "      <td>27</td>\n",
       "      <td>9237</td>\n",
       "    </tr>\n",
       "    <tr>\n",
       "      <th>2</th>\n",
       "      <td>28712</td>\n",
       "      <td>Male</td>\n",
       "      <td>53</td>\n",
       "      <td>11242</td>\n",
       "    </tr>\n",
       "    <tr>\n",
       "      <th>3</th>\n",
       "      <td>28020</td>\n",
       "      <td>Male</td>\n",
       "      <td>23</td>\n",
       "      <td>23327</td>\n",
       "    </tr>\n",
       "    <tr>\n",
       "      <th>4</th>\n",
       "      <td>27182</td>\n",
       "      <td>Male</td>\n",
       "      <td>33</td>\n",
       "      <td>8536</td>\n",
       "    </tr>\n",
       "  </tbody>\n",
       "</table>\n",
       "</div>"
      ],
      "text/plain": [
       "   Customer ID Gender  Age  Income (USD/Month)\n",
       "0        29290   Male   28               10813\n",
       "1        27703   Male   27                9237\n",
       "2        28712   Male   53               11242\n",
       "3        28020   Male   23               23327\n",
       "4        27182   Male   33                8536"
      ]
     },
     "execution_count": 272,
     "metadata": {},
     "output_type": "execute_result"
    }
   ],
   "source": [
    "cust_id.head()"
   ]
  },
  {
   "cell_type": "code",
   "execution_count": 273,
   "id": "79dbafd8",
   "metadata": {},
   "outputs": [
    {
     "name": "stdout",
     "output_type": "stream",
     "text": [
      "<class 'pandas.core.frame.DataFrame'>\n",
      "RangeIndex: 49171 entries, 0 to 49170\n",
      "Data columns (total 4 columns):\n",
      " #   Column              Non-Null Count  Dtype \n",
      "---  ------              --------------  ----- \n",
      " 0   Customer ID         49171 non-null  int64 \n",
      " 1   Gender              49171 non-null  object\n",
      " 2   Age                 49171 non-null  int64 \n",
      " 3   Income (USD/Month)  49171 non-null  int64 \n",
      "dtypes: int64(3), object(1)\n",
      "memory usage: 1.5+ MB\n"
     ]
    }
   ],
   "source": [
    "cust_id.info()"
   ]
  },
  {
   "cell_type": "code",
   "execution_count": null,
   "id": "7b4268d6",
   "metadata": {},
   "outputs": [],
   "source": []
  }
 ],
 "metadata": {
  "kernelspec": {
   "display_name": "Python 3 (ipykernel)",
   "language": "python",
   "name": "python3"
  },
  "language_info": {
   "codemirror_mode": {
    "name": "ipython",
    "version": 3
   },
   "file_extension": ".py",
   "mimetype": "text/x-python",
   "name": "python",
   "nbconvert_exporter": "python",
   "pygments_lexer": "ipython3",
   "version": "3.9.7"
  }
 },
 "nbformat": 4,
 "nbformat_minor": 5
}
